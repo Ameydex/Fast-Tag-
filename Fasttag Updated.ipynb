{
 "cells": [
  {
   "cell_type": "code",
   "execution_count": 1,
   "id": "3aac8abd",
   "metadata": {},
   "outputs": [],
   "source": [
    "import pandas as pd"
   ]
  },
  {
   "cell_type": "code",
   "execution_count": 2,
   "id": "8409953d",
   "metadata": {},
   "outputs": [],
   "source": [
    "df = pd.read_excel(\"Fasttag.xlsx\")"
   ]
  },
  {
   "cell_type": "code",
   "execution_count": null,
   "id": "73e211e4",
   "metadata": {},
   "outputs": [],
   "source": [
    "df.head()"
   ]
  },
  {
   "cell_type": "code",
   "execution_count": 4,
   "id": "4d1e0d87",
   "metadata": {},
   "outputs": [],
   "source": [
    "def check_balance(registration_no, threshold_amount):\n",
    "    row = df[df['Registration No'].eq(registration_no) | df['Name'].eq(registration_no)]\n",
    "    if not row.empty:\n",
    "        fasttag_amount = row['Amount'].values[0]\n",
    "        \n",
    "        if fasttag_amount >= 35:\n",
    "            df.loc[df['Registration No'] == registration_no, 'Amount'] -= 35\n",
    "            result_msg = f'Charged Rs. 35. Remaining balance: Rs. {fasttag_amount - 35}. '\n",
    "        else:\n",
    "            result_msg = 'Insufficient balance to deduct Rs. 35. '\n",
    "       \n",
    "        if fasttag_amount - 35 < threshold_amount:\n",
    "            return result_msg + 'Low balance'\n",
    "        else:\n",
    "            return result_msg + 'Valid FastTag'\n",
    "    else:\n",
    "        return 'Entry not found'"
   ]
  },
  {
   "cell_type": "code",
   "execution_count": null,
   "id": "3bf2c4bd",
   "metadata": {},
   "outputs": [],
   "source": [
    "input_value = input('Enter bike registration number or name: ')\n",
    "threshold_amount = 50 \n",
    "result = check_balance(input_value, threshold_amount)\n",
    "print(result)"
   ]
  },
  {
   "cell_type": "code",
   "execution_count": null,
   "id": "63e64c04",
   "metadata": {},
   "outputs": [],
   "source": [
    "df.to_excel(\"Fasttag.xlsx\", index=False)"
   ]
  },
  {
   "cell_type": "code",
   "execution_count": null,
   "id": "c25e6d12",
   "metadata": {},
   "outputs": [],
   "source": []
  }
 ],
 "metadata": {
  "kernelspec": {
   "display_name": "Python 3 (ipykernel)",
   "language": "python",
   "name": "python3"
  },
  "language_info": {
   "codemirror_mode": {
    "name": "ipython",
    "version": 3
   },
   "file_extension": ".py",
   "mimetype": "text/x-python",
   "name": "python",
   "nbconvert_exporter": "python",
   "pygments_lexer": "ipython3",
   "version": "3.12.2"
  }
 },
 "nbformat": 4,
 "nbformat_minor": 5
}
